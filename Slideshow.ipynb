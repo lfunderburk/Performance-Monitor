{
 "cells": [
  {
   "cell_type": "markdown",
   "metadata": {
    "slideshow": {
     "slide_type": "slide"
    }
   },
   "source": [
    "<h1 align='center'> Building your first performance monitor </h1>\n",
    "\n",
    "<h3 align='center'>With Laura G. Funderburk</h3>\n",
    "\n",
    "<h4 align='center'>Data Scientist at Cybera</h4>\n",
    "\n",
    "<h4 align='center'>Support DevOps Engineer, iReceptor project </h4>\n",
    "\n",
    "<h4 align='center'>PyLadies Berlin </h4>\n",
    "\n",
    "<h4 align='center'>April 6 2021 </h4>"
   ]
  },
  {
   "cell_type": "markdown",
   "metadata": {
    "slideshow": {
     "slide_type": "slide"
    }
   },
   "source": [
    "<h2 align='center'> Introductions </h2>\n",
    "\n",
    "\n",
    "<center><img src=\"https://media1.giphy.com/media/j1soPQE95y0eXhMwKT/source.gif\" alt=\"Drawing\" style=\"width: 500px;\"/></center>\n"
   ]
  },
  {
   "cell_type": "markdown",
   "metadata": {
    "slideshow": {
     "slide_type": "slide"
    }
   },
   "source": [
    "## What does the performance monitor I will show you look like? \n",
    "\n",
    "https://github.com/lfunderburk/Performance-Monitor"
   ]
  },
  {
   "cell_type": "markdown",
   "metadata": {
    "slideshow": {
     "slide_type": "slide"
    }
   },
   "source": [
    "## How I do it\n",
    "\n",
    "### Part I: Perform queries on a regular schedule\n",
    "\n",
    "1. Identify an API (this talk will focus on using REST API's, but can be extended to other kinds of API's)\n",
    "2. Write Python script `perform_queries.py` to perform a query, track how long it takes and save results in a CSV file \n",
    "3. Use Bash to create a wrapper script for `perform_queries.py` - `automate_queries.sh` (advantage when you want to perform queries on multiple API's)\n",
    "4. Use Crontab to set up a regular schedule for `automate_queries.sh`\n"
   ]
  },
  {
   "cell_type": "markdown",
   "metadata": {
    "slideshow": {
     "slide_type": "subslide"
    }
   },
   "source": [
    "## How I do it\n",
    "\n",
    "### Part II: Use Python + Bash + GitHub + GitHub pages to visualize and share results\n",
    "\n",
    "5. Write a Python script to parse the CSV results and generate plots `plot_results.py`\n",
    "6. Create a new GitHub repository, clone the repository on your local computer\n",
    "7. Write a wrapper script for `plot_results.py`, - `publish_results.sh` that pushes plots generated as HTML files to repository\n",
    "9. Activate GitHub's pages\n",
    "10. Add Bash plotting script to Crontab on a regular schedule"
   ]
  },
  {
   "cell_type": "markdown",
   "metadata": {
    "slideshow": {
     "slide_type": "slide"
    }
   },
   "source": [
    "## Why I do it this way\n",
    "\n",
    "This is a process I have been curating over the course of two years through experience supporting DevOps tasks. \n",
    "\n",
    "Team wanted to identify timeouts in their database and prevent them. \n",
    "\n",
    "The performance monitor I built for them allows them to see when query times are close to the cutoff time, and that rebooting service cuts time in half. \n",
    "\n",
    "This performance monitor won't assess underlying causes for timeouts, and should only be used as a part of a systematic approach to assess how long different queries take."
   ]
  },
  {
   "cell_type": "code",
   "execution_count": 8,
   "metadata": {
    "slideshow": {
     "slide_type": "slide"
    }
   },
   "outputs": [
    {
     "name": "stdout",
     "output_type": "stream",
     "text": [
      "0.8223390579223633\n",
      "2.769749879837036\n",
      "HTTP error occurred: 400 Client Error: Bad Request for url: https://api.carbonintensity.org.uk/intensity/stats/2021-03-05T23:59Z/2021-04-05T23:59Z\n",
      "Could not complete query\n"
     ]
    }
   ],
   "source": [
    "# Example\n",
    "%run -i performance_monitor.py "
   ]
  },
  {
   "cell_type": "code",
   "execution_count": 5,
   "metadata": {
    "slideshow": {
     "slide_type": "subslide"
    }
   },
   "outputs": [
    {
     "data": {
      "text/html": [
       "<div>\n",
       "<style scoped>\n",
       "    .dataframe tbody tr th:only-of-type {\n",
       "        vertical-align: middle;\n",
       "    }\n",
       "\n",
       "    .dataframe tbody tr th {\n",
       "        vertical-align: top;\n",
       "    }\n",
       "\n",
       "    .dataframe thead th {\n",
       "        text-align: right;\n",
       "    }\n",
       "</style>\n",
       "<table border=\"1\" class=\"dataframe\">\n",
       "  <thead>\n",
       "    <tr style=\"text-align: right;\">\n",
       "      <th></th>\n",
       "      <th>Unnamed: 0</th>\n",
       "      <th>from</th>\n",
       "      <th>to</th>\n",
       "      <th>intensity.forecast</th>\n",
       "      <th>intensity.actual</th>\n",
       "      <th>intensity.index</th>\n",
       "      <th>query.lasted</th>\n",
       "      <th>query.date</th>\n",
       "      <th>query.time</th>\n",
       "    </tr>\n",
       "  </thead>\n",
       "  <tbody>\n",
       "    <tr>\n",
       "      <th>0</th>\n",
       "      <td>0</td>\n",
       "      <td>2021-03-11T03:30Z</td>\n",
       "      <td>2021-03-11T04:00Z</td>\n",
       "      <td>92</td>\n",
       "      <td>93</td>\n",
       "      <td>low</td>\n",
       "      <td>0.821728</td>\n",
       "      <td>2021-03-10</td>\n",
       "      <td>20:24:35</td>\n",
       "    </tr>\n",
       "  </tbody>\n",
       "</table>\n",
       "</div>"
      ],
      "text/plain": [
       "   Unnamed: 0               from                 to  intensity.forecast  \\\n",
       "0           0  2021-03-11T03:30Z  2021-03-11T04:00Z                  92   \n",
       "\n",
       "   intensity.actual intensity.index  query.lasted  query.date query.time  \n",
       "0                93             low      0.821728  2021-03-10   20:24:35  "
      ]
     },
     "execution_count": 5,
     "metadata": {},
     "output_type": "execute_result"
    }
   ],
   "source": [
    "# An example output file \n",
    "sample_file = \"./logs/_pT_2021-03-10_20-24-35_Query_Times_carbonintensity_intensity.csv\"\n",
    "pd.read_csv(sample_file)"
   ]
  },
  {
   "cell_type": "markdown",
   "metadata": {
    "slideshow": {
     "slide_type": "slide"
    }
   },
   "source": [
    "## What about Bash?\n",
    "\n",
    "There are a few things we need to consider:\n",
    "\n",
    "1. Depending on how often you want the results, you might need to set up a virtual machine (I used Oracle VM VirtualBox in Windows to set up a Linux VM, on 24/7)\n",
    "\n",
    "2. You will also need to configure crontab to ensure you provide the path to Bash and other environment variables, set up a ssh key so crontab can push to GitHub without needing your credentials. \n",
    "\n",
    "3. Setting up a virtualenv for Python ensures same dependencies and minimizes errors. \n",
    "\n",
    "4. Wrapper scripts are not necessary, but can greatly increase automation, especially when you scale up to several REST API's, and multiple queries within each of them. "
   ]
  },
  {
   "cell_type": "markdown",
   "metadata": {
    "slideshow": {
     "slide_type": "slide"
    }
   },
   "source": [
    "## Configuring Crontab\n",
    "\n",
    "On Linux, type in the command line:\n",
    "\n",
    "    crontab -e\n",
    "    \n",
    "Get a few environment basics right before anything else:\n",
    "\n",
    "    * * * * * env > /tmp/env.output\n",
    "    \n",
    "The above means that every minute, every hour, every day this command will run. You only need it once, you can comment it out afterwards. `CTRL + SHIFT + O` and `ENTER` to save, then `CTRL + SHIFT + X` to exit. \n",
    "\n",
    "Read the content via `cat /tmp/env.output`.\n"
   ]
  },
  {
   "cell_type": "markdown",
   "metadata": {
    "slideshow": {
     "slide_type": "subslide"
    }
   },
   "source": [
    "## Configuring Crontab\n",
    "\n",
    "Tell it where to find Bash\n",
    "\n",
    "    SHELL=/bin/bash\n",
    " \n",
    "Tell it the path to working directory\n",
    "\n",
    "    PWD=/home/lauragf #YOUR USERNAME INSTEAD\n",
    "\n",
    "Tell it any other paths your scripts depend on. Note Anaconda for Python\n",
    "\n",
    "    PATH=/usr/local/sbin:/usr/local/bin:\n",
    "    /usr/sbin:/user/bin:/bin:/home/lauragf/anaconda3/bin"
   ]
  },
  {
   "cell_type": "markdown",
   "metadata": {
    "slideshow": {
     "slide_type": "subslide"
    }
   },
   "source": [
    "## Setting up your script\n",
    "\n",
    "Let's go take a look at our Bash scripts....\n",
    "\n",
    "Once they are ready to go, ensure they can be executed (I like giving everyone executing permissions, but this depends entirely on you)...\n",
    "\n",
    "    chmod a+x \n",
    "    \n",
    "Test the script until you are sure it does what you want\n",
    "\n",
    "    bash uk_emissions.sh"
   ]
  },
  {
   "cell_type": "markdown",
   "metadata": {
    "slideshow": {
     "slide_type": "subslide"
    }
   },
   "source": [
    "## Regular schedule through crontab \n",
    "\n",
    "    0 */2 * * * /PATH/TO/BASH/SCRIPT/uk_emissions.sh > \n",
    "    /PATH/TO/BASH/SCRIPT/uk_emissions.out 2>&1 \n",
    "    \n",
    "The above means that the script is to be executed during minute 0, every 2 hours, every day. \n",
    "\n",
    "File descriptor 1 is the standard output (stdout).\n",
    "File descriptor 2 is the standard error (stderr)\n",
    "\n",
    "` 2>&1 ` means \"redirect the stderr to the same place we are redirecting the stdout\""
   ]
  },
  {
   "cell_type": "markdown",
   "metadata": {
    "slideshow": {
     "slide_type": "slide"
    }
   },
   "source": [
    "## Plotting results"
   ]
  },
  {
   "cell_type": "code",
   "execution_count": 7,
   "metadata": {
    "slideshow": {
     "slide_type": "subslide"
    }
   },
   "outputs": [],
   "source": [
    "# Need to visualize\n",
    "%run -i plot_performance.py \"./logs/\" \"intensity\""
   ]
  },
  {
   "cell_type": "markdown",
   "metadata": {
    "slideshow": {
     "slide_type": "subslide"
    }
   },
   "source": [
    "## We can write a wrapper script for the plotting script\n",
    "\n",
    "This script will have the same pieces as before, except instead of executing the query script, it will parse the results and generate an HTML plotly plot we can embed into a webpage. "
   ]
  },
  {
   "cell_type": "markdown",
   "metadata": {
    "slideshow": {
     "slide_type": "slide"
    }
   },
   "source": [
    "## Sharing results\n",
    "\n",
    "Now that we have created plots...it is time to share!\n",
    "\n",
    "1. Create a GitHub repository\n",
    "2. Clone the repository locally\n",
    "3. Push the HTML files that our script generated\n",
    "4. Activate GitHub pages\n",
    "5. If you like, you can get fancy and export the HTML as objects and add any customization you want\n"
   ]
  },
  {
   "cell_type": "markdown",
   "metadata": {
    "slideshow": {
     "slide_type": "subslide"
    }
   },
   "source": [
    "## Sharing results\n",
    "\n",
    "6. To automate, we will need to create SSH keys, here is a guide https://zzpanqing.github.io/2017/02/28/github-push-without-username-and-password.html\n",
    "7. Fiddle with it a bit if it doesn't work at first https://stackoverflow.com/questions/10116373/git-push-error-repository-not-found \n",
    "8. Test, test, test, test via `bash publish_results.sh` until you can push without needing to provide credentials\n",
    "9. Once it works, activate GitHub pages\n",
    "10. Add to schedule via crontab as long as you like (I like to run twice a day)"
   ]
  }
 ],
 "metadata": {
  "celltoolbar": "Slideshow",
  "kernelspec": {
   "display_name": "Python 3",
   "language": "python",
   "name": "python3"
  },
  "language_info": {
   "codemirror_mode": {
    "name": "ipython",
    "version": 3
   },
   "file_extension": ".py",
   "mimetype": "text/x-python",
   "name": "python",
   "nbconvert_exporter": "python",
   "pygments_lexer": "ipython3",
   "version": "3.7.4"
  }
 },
 "nbformat": 4,
 "nbformat_minor": 2
}
